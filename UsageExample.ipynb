{
 "cells": [
  {
   "cell_type": "code",
   "execution_count": 1,
   "metadata": {
    "collapsed": false
   },
   "outputs": [],
   "source": [
    "%load_ext autoreload\n",
    "%autoreload 2\n",
    "from arris.status import ArrisModem\n",
    "\n",
    "m = ArrisModem('192.168.100.1')"
   ]
  },
  {
   "cell_type": "code",
   "execution_count": 2,
   "metadata": {
    "collapsed": false
   },
   "outputs": [
    {
     "data": {
      "text/plain": [
       "{'Correcteds': '1002',\n",
       " 'DCID': '7',\n",
       " 'Freq': '711.00 MHz',\n",
       " 'Modulation': '256QAM',\n",
       " 'Octets': '2713186118',\n",
       " 'Power': '-2.94 dBmV',\n",
       " 'SNR': '36.61 dB',\n",
       " 'Uncorrectables': '4117'}"
      ]
     },
     "execution_count": 2,
     "metadata": {},
     "output_type": "execute_result"
    }
   ],
   "source": [
    "m.status['downstream'][0]"
   ]
  },
  {
   "cell_type": "code",
   "execution_count": 3,
   "metadata": {
    "collapsed": false
   },
   "outputs": [
    {
     "data": {
      "text/plain": [
       "{'Channel Type': 'DOCSIS2.0 (ATDMA)',\n",
       " 'Freq': '24.20 MHz',\n",
       " 'Modulation': '16QAM',\n",
       " 'Power': '40.50 dBmV',\n",
       " 'Symbol Rate': '5120 kSym/s',\n",
       " 'UCID': '66'}"
      ]
     },
     "execution_count": 3,
     "metadata": {},
     "output_type": "execute_result"
    }
   ],
   "source": [
    "m.status['upstream'][0]"
   ]
  },
  {
   "cell_type": "code",
   "execution_count": 4,
   "metadata": {
    "collapsed": false
   },
   "outputs": [
    {
     "data": {
      "text/plain": [
       "{'Interface Name': 'CABLE',\n",
       " 'MAC address': '00:1D:D0:XX:YY:ZZ',\n",
       " 'Provisioned': 'Enabled',\n",
       " 'Speed (Mbps)': '-----',\n",
       " 'State': 'Up'}"
      ]
     },
     "execution_count": 4,
     "metadata": {},
     "output_type": "execute_result"
    }
   ],
   "source": [
    "m.status['ifaces'][4]"
   ]
  },
  {
   "cell_type": "code",
   "execution_count": 5,
   "metadata": {
    "collapsed": false
   },
   "outputs": [
    {
     "data": {
      "text/plain": [
       "{'Date Time': '1/1/1970 0:00',\n",
       " 'Description': 'Power Supply Telemetry Log - BATTERY MISSING',\n",
       " 'Event ID': '14'}"
      ]
     },
     "execution_count": 5,
     "metadata": {},
     "output_type": "execute_result"
    }
   ],
   "source": [
    "m.events['packetcable_events'][0]"
   ]
  },
  {
   "cell_type": "code",
   "execution_count": 6,
   "metadata": {
    "collapsed": false
   },
   "outputs": [
    {
     "data": {
      "text/plain": [
       "{'Date Time': '8/30/2016 4:45',\n",
       " 'Description': 'RCS Partial Service;CM-MAC=00:1d:d0:XX:YY:ZZ;CMTS-MAC=00:01:5c:8b:24:4e;CM-QOS=1.1;CM-VER=3.0;',\n",
       " 'Event ID': '84000700',\n",
       " 'Event Level': '5'}"
      ]
     },
     "execution_count": 6,
     "metadata": {},
     "output_type": "execute_result"
    }
   ],
   "source": [
    "m.events['docsis_events'][0]"
   ]
  },
  {
   "cell_type": "code",
   "execution_count": 7,
   "metadata": {
    "collapsed": false
   },
   "outputs": [
    {
     "data": {
      "text/plain": [
       "{'Battery Charger FW Rev:': '02.10',\n",
       " 'Firmware Build Time:   ': 'Fri Mar 29 11:42:13 EDT 2013',\n",
       " 'Firmware Name:': 'TS070563C_032913_MODEL_852_GW_TW_SIP_PC20',\n",
       " 'Options:': '',\n",
       " 'Serial Number:': 'C5YBPLAGP201363',\n",
       " 'System: ': 'ARRIS DOCSIS 3.0 / PacketCable 2.0 Touchstone Telephony Gateway\\r\\n\\t\\t\\t HW_REV: 2 \\r\\n\\t\\t\\t VENDOR: Arris Interactive, L.L.C.\\r\\n\\t\\t\\t BOOTR: 1.2.1.52 \\r\\n\\t\\t\\t SW_REV: 7.5.63C.SIP.PC20.TW\\r\\n\\t\\t\\t MODEL: TG852G',\n",
       " 'eSAFE 0 FW Revision:': '2.0.54_0920E'}"
      ]
     },
     "execution_count": 7,
     "metadata": {},
     "output_type": "execute_result"
    }
   ],
   "source": [
    "m.hardware"
   ]
  },
  {
   "cell_type": "code",
   "execution_count": 8,
   "metadata": {
    "collapsed": false
   },
   "outputs": [
    {
     "data": {
      "text/plain": [
       "{'bpi': {'BPI Status': 'Enabled, Authorized'},\n",
       " 'cm_state': 'Telephony-Reg Completed',\n",
       " 'dhcp': {'IPv4 Attempt(s)': '1', 'IPv6 Attempt(s)': '0'},\n",
       " 'power': {'Battery Operation Status': 'BATTERY MISSING',\n",
       "  'Battery Part Number': '-----',\n",
       "  'Battery Serial Number': '-----'},\n",
       " 'telephony': {'Docsis-DHCP': 'Completed',\n",
       "  'Docsis-Data Reg Complete': 'Completed',\n",
       "  'Docsis-Downstream Ranging': 'Completed',\n",
       "  'Docsis-Downstream Scanning': 'Completed',\n",
       "  'Docsis-TFTP': 'Completed',\n",
       "  'Docsis-Upstream Ranging': 'Completed',\n",
       "  'Telephony-DHCP': 'Completed',\n",
       "  'Telephony-Reg Complete': 'Completed',\n",
       "  'Telephony-Reg with Call Server': 'Completed',\n",
       "  'Telephony-TFTP': 'Completed'},\n",
       " 'tod': {'Time of Day': 'Retrieved'}}"
      ]
     },
     "execution_count": 8,
     "metadata": {},
     "output_type": "execute_result"
    }
   ],
   "source": [
    "m.state"
   ]
  },
  {
   "cell_type": "code",
   "execution_count": null,
   "metadata": {
    "collapsed": true
   },
   "outputs": [],
   "source": []
  }
 ],
 "metadata": {
  "kernelspec": {
   "display_name": "Python 3",
   "language": "python",
   "name": "python3"
  },
  "language_info": {
   "codemirror_mode": {
    "name": "ipython",
    "version": 3
   },
   "file_extension": ".py",
   "mimetype": "text/x-python",
   "name": "python",
   "nbconvert_exporter": "python",
   "pygments_lexer": "ipython3",
   "version": "3.3.5"
  }
 },
 "nbformat": 4,
 "nbformat_minor": 1
}
